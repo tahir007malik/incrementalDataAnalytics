{
 "cells": [
  {
   "cell_type": "markdown",
   "metadata": {
    "application/vnd.databricks.v1+cell": {
     "cellMetadata": {},
     "inputWidgets": {},
     "nuid": "588f5009-efec-487b-a242-0c79fe88fb11",
     "showTitle": false,
     "tableResultSettingsMap": {},
     "title": ""
    }
   },
   "source": [
    "# Create Fact Table"
   ]
  },
  {
   "cell_type": "markdown",
   "metadata": {
    "application/vnd.databricks.v1+cell": {
     "cellMetadata": {},
     "inputWidgets": {},
     "nuid": "3bf63f47-4b8a-4018-a6c4-054a8bfdb724",
     "showTitle": false,
     "tableResultSettingsMap": {},
     "title": ""
    }
   },
   "source": [
    "**Reading data from silver layer**"
   ]
  },
  {
   "cell_type": "code",
   "execution_count": 0,
   "metadata": {
    "application/vnd.databricks.v1+cell": {
     "cellMetadata": {
      "byteLimit": 2048000,
      "implicitDf": true,
      "rowLimit": 10000
     },
     "inputWidgets": {},
     "nuid": "7955ff22-aa8a-4906-ba30-0f67f312abfe",
     "showTitle": false,
     "tableResultSettingsMap": {},
     "title": ""
    }
   },
   "outputs": [],
   "source": [
    "df_silver = spark.sql(\"SELECT * FROM PARQUET.`abfss://silver@tahirbucket.dfs.core.windows.net/carsales`\")"
   ]
  },
  {
   "cell_type": "code",
   "execution_count": 0,
   "metadata": {
    "application/vnd.databricks.v1+cell": {
     "cellMetadata": {
      "byteLimit": 2048000,
      "rowLimit": 10000
     },
     "inputWidgets": {},
     "nuid": "8bcb8923-4dea-47ab-8282-0c9feff4a635",
     "showTitle": false,
     "tableResultSettingsMap": {},
     "title": ""
    }
   },
   "outputs": [],
   "source": [
    "df_silver.printSchema()"
   ]
  },
  {
   "cell_type": "code",
   "execution_count": 0,
   "metadata": {
    "application/vnd.databricks.v1+cell": {
     "cellMetadata": {
      "byteLimit": 2048000,
      "rowLimit": 10000
     },
     "inputWidgets": {},
     "nuid": "5108cf9f-0c4e-4376-be22-ba8a932b97b1",
     "showTitle": false,
     "tableResultSettingsMap": {},
     "title": ""
    }
   },
   "outputs": [],
   "source": [
    "df_silver.display()"
   ]
  },
  {
   "cell_type": "markdown",
   "metadata": {
    "application/vnd.databricks.v1+cell": {
     "cellMetadata": {},
     "inputWidgets": {},
     "nuid": "759d6bc9-495e-473c-8d4b-3de3a61eba37",
     "showTitle": false,
     "tableResultSettingsMap": {},
     "title": ""
    }
   },
   "source": [
    "**Reading all the DIMENSION Tables**"
   ]
  },
  {
   "cell_type": "code",
   "execution_count": 0,
   "metadata": {
    "application/vnd.databricks.v1+cell": {
     "cellMetadata": {
      "byteLimit": 2048000,
      "rowLimit": 10000
     },
     "inputWidgets": {},
     "nuid": "036d6dda-4da7-46d3-9afb-eac95e462c89",
     "showTitle": false,
     "tableResultSettingsMap": {},
     "title": ""
    }
   },
   "outputs": [],
   "source": [
    "df_model  = spark.sql(\"SELECT * FROM cars_catalog.gold.dim_model\")\n",
    "df_branch = spark.sql(\"SELECT * FROM cars_catalog.gold.dim_branch\")\n",
    "df_dealer = spark.sql(\"SELECT * FROM cars_catalog.gold.dim_dealer\")\n",
    "df_date   = spark.sql(\"SELECT * FROM cars_catalog.gold.dim_date\")"
   ]
  },
  {
   "cell_type": "markdown",
   "metadata": {
    "application/vnd.databricks.v1+cell": {
     "cellMetadata": {},
     "inputWidgets": {},
     "nuid": "9acb984d-8559-4ab3-be2e-edd5d5f53d19",
     "showTitle": false,
     "tableResultSettingsMap": {},
     "title": ""
    }
   },
   "source": [
    "**Bringing keys to the FACT Table**"
   ]
  },
  {
   "cell_type": "code",
   "execution_count": 0,
   "metadata": {
    "application/vnd.databricks.v1+cell": {
     "cellMetadata": {
      "byteLimit": 2048000,
      "rowLimit": 10000
     },
     "inputWidgets": {},
     "nuid": "71b96211-f96f-48b9-8c6c-ee5fa51092eb",
     "showTitle": false,
     "tableResultSettingsMap": {},
     "title": ""
    }
   },
   "outputs": [],
   "source": [
    "df_fact = df_silver \\\n",
    "    .join(df_model, df_silver['model_id'] == df_model['model_id'], how = 'left') \\\n",
    "    .join(df_branch, df_silver['branch_id'] == df_branch['branch_id'], how = 'left') \\\n",
    "    .join(df_dealer, df_silver['dealer_id'] == df_dealer['dealer_id'], how = 'left') \\\n",
    "    .join(df_date, df_silver['date_id'] == df_date['date_id'], how = 'left') \\\n",
    "    .select(\n",
    "        df_silver['revenue'],\n",
    "        df_silver['units_sold'],\n",
    "        df_silver['rev_per_unit'],\n",
    "        df_model['dim_model_key'],\n",
    "        df_branch['dim_branch_key'],\n",
    "        df_dealer['dim_dealer_key'],\n",
    "        df_date['dim_date_key']\n",
    "    )"
   ]
  },
  {
   "cell_type": "code",
   "execution_count": 0,
   "metadata": {
    "application/vnd.databricks.v1+cell": {
     "cellMetadata": {
      "byteLimit": 2048000,
      "rowLimit": 10000
     },
     "inputWidgets": {},
     "nuid": "9aa320aa-d3f2-4252-96f5-c05fc24b3d45",
     "showTitle": false,
     "tableResultSettingsMap": {},
     "title": ""
    }
   },
   "outputs": [],
   "source": [
    "df_fact.display()"
   ]
  },
  {
   "cell_type": "markdown",
   "metadata": {
    "application/vnd.databricks.v1+cell": {
     "cellMetadata": {},
     "inputWidgets": {},
     "nuid": "f6851c02-4f87-496c-a4c8-d1c5c3c85266",
     "showTitle": false,
     "tableResultSettingsMap": {},
     "title": ""
    }
   },
   "source": [
    "**Writing FACT Table**"
   ]
  },
  {
   "cell_type": "code",
   "execution_count": 0,
   "metadata": {
    "application/vnd.databricks.v1+cell": {
     "cellMetadata": {
      "byteLimit": 2048000,
      "rowLimit": 10000
     },
     "inputWidgets": {},
     "nuid": "01c60c34-1cbc-4fd5-9c1d-657eb80b5c70",
     "showTitle": false,
     "tableResultSettingsMap": {},
     "title": ""
    }
   },
   "outputs": [],
   "source": [
    "from delta.tables import DeltaTable"
   ]
  },
  {
   "cell_type": "code",
   "execution_count": 0,
   "metadata": {
    "application/vnd.databricks.v1+cell": {
     "cellMetadata": {
      "byteLimit": 2048000,
      "rowLimit": 10000
     },
     "inputWidgets": {},
     "nuid": "d9156e7d-fcfd-4957-8995-6b751b4ad73c",
     "showTitle": false,
     "tableResultSettingsMap": {},
     "title": ""
    }
   },
   "outputs": [],
   "source": [
    "if spark.catalog.tableExists('cars_catalog.gold.factsales'):\n",
    "    delta_table = DeltaTable.forName(spark, 'cars_catalog.gold.factsales')\n",
    "    \n",
    "    delta_table.alias('target').merge(df_fact.alias('source'), 'target.dim_model_key = source.dim_model_key AND target.dim_branch_key = source.dim_branch_key AND target.dim_dealer_key = source.dim_dealer_key AND target.dim_date_key = source.dim_date_key') \\\n",
    "        .whenMatchedUpdateAll() \\\n",
    "        .whenNotMatchedInsertAll() \\\n",
    "        .execute()    \n",
    "else:\n",
    "    df_fact \\\n",
    "        .write.format('delta') \\\n",
    "        .mode('Overwrite') \\\n",
    "        .option('path', 'abfss://gold@tahirbucket.dfs.core.windows.net/factsales') \\\n",
    "        .saveAsTable('cars_catalog.gold.factsales')"
   ]
  },
  {
   "cell_type": "code",
   "execution_count": 0,
   "metadata": {
    "application/vnd.databricks.v1+cell": {
     "cellMetadata": {
      "byteLimit": 2048000,
      "implicitDf": true,
      "rowLimit": 10000
     },
     "inputWidgets": {},
     "nuid": "ad452957-57fa-4b32-aae2-440d5f576b98",
     "showTitle": false,
     "tableResultSettingsMap": {},
     "title": ""
    }
   },
   "outputs": [],
   "source": [
    "%sql\n",
    "SELECT * FROM cars_catalog.gold.factsales"
   ]
  }
 ],
 "metadata": {
  "application/vnd.databricks.v1+notebook": {
   "computePreferences": null,
   "dashboards": [],
   "environmentMetadata": {
    "base_environment": "",
    "client": "1"
   },
   "language": "python",
   "notebookMetadata": {
    "mostRecentlyExecutedCommandWithImplicitDF": {
     "commandId": 5613622895039700,
     "dataframes": [
      "_sqldf"
     ]
    },
    "pythonIndentUnit": 4
   },
   "notebookName": "goldFactTableNotebook",
   "widgets": {}
  },
  "language_info": {
   "name": "python"
  }
 },
 "nbformat": 4,
 "nbformat_minor": 0
}
